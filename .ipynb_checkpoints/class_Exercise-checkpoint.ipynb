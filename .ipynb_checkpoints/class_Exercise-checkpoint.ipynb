{
 "cells": [
  {
   "cell_type": "code",
   "execution_count": 1,
   "metadata": {
    "collapsed": true
   },
   "outputs": [],
   "source": [
    "#in class exercise\n",
    "# Sinney Chan\n",
    "# Brandon Harden\n",
    "# Julie Fisher\n",
    "import sqlite3"
   ]
  },
  {
   "cell_type": "code",
   "execution_count": 2,
   "metadata": {
    "collapsed": false
   },
   "outputs": [],
   "source": [
    "db = sqlite3.connect(\"stocks.db\")\n",
    "cursor = db.cursor()\n",
    "\n",
    "stocks500 = \"\"\"CREATE TABLE [stocks500] (\n",
    "            Company           text,          \n",
    "            [Fair Value ($)]    INTEGER,       \n",
    "            [Share Price ($)]         real )\"\"\"\n",
    "\n",
    "\n",
    "cursor.execute(stocks500)\n",
    "db.commit()\n",
    "db.close()"
   ]
  },
  {
   "cell_type": "code",
   "execution_count": 3,
   "metadata": {
    "collapsed": false
   },
   "outputs": [
    {
     "ename": "IOError",
     "evalue": "[Errno 2] No such file or directory: 'Stocks500.csv'",
     "output_type": "error",
     "traceback": [
      "\u001b[0;31m---------------------------------------------------------------------------\u001b[0m",
      "\u001b[0;31mIOError\u001b[0m                                   Traceback (most recent call last)",
      "\u001b[0;32m<ipython-input-3-654c12e34f3f>\u001b[0m in \u001b[0;36m<module>\u001b[0;34m()\u001b[0m\n\u001b[1;32m      8\u001b[0m \u001b[1;33m\u001b[0m\u001b[0m\n\u001b[1;32m      9\u001b[0m \u001b[1;31m# Open `ticker_data.csv`, and create a csv.reader instance:\u001b[0m\u001b[1;33m\u001b[0m\u001b[1;33m\u001b[0m\u001b[0m\n\u001b[0;32m---> 10\u001b[0;31m \u001b[1;32mwith\u001b[0m \u001b[0mopen\u001b[0m\u001b[1;33m(\u001b[0m\u001b[1;34m'Stocks500.csv'\u001b[0m\u001b[1;33m,\u001b[0m \u001b[1;34m'r'\u001b[0m\u001b[1;33m)\u001b[0m \u001b[1;32mas\u001b[0m \u001b[0mf\u001b[0m\u001b[1;33m:\u001b[0m  \u001b[1;31m# on Windows, change `r` to `rb`\u001b[0m\u001b[1;33m\u001b[0m\u001b[0m\n\u001b[0m\u001b[1;32m     11\u001b[0m \u001b[1;33m\u001b[0m\u001b[0m\n\u001b[1;32m     12\u001b[0m     \u001b[0mfcsv\u001b[0m \u001b[1;33m=\u001b[0m \u001b[0mcsv\u001b[0m\u001b[1;33m.\u001b[0m\u001b[0mreader\u001b[0m\u001b[1;33m(\u001b[0m\u001b[0mf\u001b[0m\u001b[1;33m)\u001b[0m\u001b[1;33m\u001b[0m\u001b[0m\n",
      "\u001b[0;31mIOError\u001b[0m: [Errno 2] No such file or directory: 'Stocks500.csv'"
     ]
    }
   ],
   "source": [
    "\n",
    "import csv\n",
    "\n",
    "\n",
    "# Reestablish connection to the database:\n",
    "db     = sqlite3.connect('stocks.db')\n",
    "cursor = db.cursor()\n",
    "\n",
    "# Open `ticker_data.csv`, and create a csv.reader instance:\n",
    "with open('Stocks500.csv', 'r') as f:  # on Windows, change `r` to `rb`\n",
    "    \n",
    "    fcsv = csv.reader(f)\n",
    "    \n",
    "    # `recs_to_load` is a list of records contained in `ticker_data.csv`:\n",
    "    recs_to_load = [record for record in fcsv]\n",
    "\n",
    "    # call `cursor.executemany`, specifying `recs_to_load`\n",
    "    cursor.executemany(\"INSERT INTO [stocks500] VALUES (?, ?, ?)\", recs_to_load)\n",
    "\n",
    "# Not forgetting to commit changes and close connection:\n",
    "db.commit()\n",
    "db.close()"
   ]
  },
  {
   "cell_type": "code",
   "execution_count": 7,
   "metadata": {
    "collapsed": false
   },
   "outputs": [],
   "source": [
    "db = sqlite3.connect(\"funds.db\")\n",
    "cursor = db.cursor()\n",
    "\n",
    "mutual = \"\"\"CREATE TABLE [mutual-funds] (\n",
    "[Fund Name]\ttext,\n",
    "[Fund Type]\ttext,\n",
    "[Net Asset Value ($)] real,\t\n",
    "[5 Year Average Return (%)] real,\t\n",
    "[Expense Ratio (%)] real,\n",
    "[Morningstar Rank] text\n",
    ")\"\"\"\n",
    "\n",
    "\n",
    "cursor.execute(mutual)\n",
    "db.commit()\n",
    "db.close()"
   ]
  },
  {
   "cell_type": "code",
   "execution_count": 9,
   "metadata": {
    "collapsed": false
   },
   "outputs": [],
   "source": [
    "\n",
    "import csv\n",
    "\n",
    "\n",
    "# Reestablish connection to the database:\n",
    "db     = sqlite3.connect('funds.db')\n",
    "cursor = db.cursor()\n",
    "\n",
    "# Open `ticker_data.csv`, and create a csv.reader instance:\n",
    "with open('MutualFunds.csv', 'r') as f:  # on Windows, change `r` to `rb`\n",
    "    \n",
    "    fcsv = csv.reader(f)\n",
    "    \n",
    "    # `recs_to_load` is a list of records contained in `ticker_data.csv`:\n",
    "    recs_to_load = [record for record in fcsv]\n",
    "\n",
    "    # call `cursor.executemany`, specifying `recs_to_load`\n",
    "    cursor.executemany(\"INSERT INTO [mutual-funds] VALUES (?, ?, ?, ?, ?, ?)\", recs_to_load)\n",
    "\n",
    "# Not forgetting to commit changes and close connection:\n",
    "db.commit()\n",
    "db.close()"
   ]
  },
  {
   "cell_type": "code",
   "execution_count": 10,
   "metadata": {
    "collapsed": false
   },
   "outputs": [
    {
     "name": "stdout",
     "output_type": "stream",
     "text": [
      "(u'Company', u'Fair Value ($)', u'Share Price ($)')\n",
      "(u'Air Products and Chemicals', 80, 98.63)\n",
      "(u'Allied Waste Industries', 17, 11.02)\n",
      "(u'America Mobile', 83, 61.39)\n",
      "(u'AT&T', 35, 41.56)\n",
      "(u'Bank of America', 70, 41.26)\n",
      "(u'Barclays PLC', 68, 40.37)\n",
      "(u'Citigroup', 53, 29.44)\n",
      "(u'Costco Wholesale Corp.', 75, 69.76)\n",
      "(u'Covidien, Ltd.', 58, 44.29)\n",
      "(u'Darden Restaurants', 52, 27.71)\n",
      "(u'Dun & Bradstreet', 87, 88.63)\n",
      "(u'Equifax', 42, 36.36)\n",
      "(u'Gannett Co.', 38, 39.0)\n",
      "(u'Genuine Parts', 48, 46.3)\n",
      "(u'GlaxoSmithKline PLC', 57, 50.39)\n",
      "(u'Iron Mountain', 33, 37.02)\n",
      "(u'ITT Corporation', 83, 66.04)\n",
      "(u'Johnson & Johnson', 80, 66.7)\n",
      "(u'Las Vegas Sands', 98, 103.05)\n",
      "(u'Macrovision', 23, 18.33)\n",
      "(u'Marriott International', 39, 34.18)\n",
      "(u'Nalco Holding Company', 29, 24.18)\n",
      "(u'National Interstate', 25, 33.1)\n",
      "(u'Portugal Telecom', 15, 13.02)\n",
      "(u'Qualcomm', 48, 39.35)\n",
      "(u'Royal Dutch Shell Ltd.', 87, 84.2)\n",
      "(u'SanDisk', 60, 33.17)\n",
      "(u'Time Warner', 42, 27.6)\n"
     ]
    }
   ],
   "source": [
    "\n",
    "# reestablish connection to `sales.db` database:\n",
    "db     = sqlite3.connect('stocks.db')\n",
    "cursor = db.cursor()\n",
    "\n",
    "#construct a query to retrieve data from `TOYOTA_SALES`:\n",
    "SQL = \"SELECT * FROM [stocks500]\"\n",
    "\n",
    "# call `cursor.execute` on query string:\n",
    "cursor.execute(SQL)\n",
    "\n",
    "# `cursor` can be iterated over:\n",
    "for rec in cursor:\n",
    "    print(rec)\n",
    "    \n",
    "# not forgetting to commit changes and close connection:   \n",
    "db.commit()\n",
    "db.close()\n"
   ]
  },
  {
   "cell_type": "code",
   "execution_count": 11,
   "metadata": {
    "collapsed": false
   },
   "outputs": [
    {
     "name": "stdout",
     "output_type": "stream",
     "text": [
      "(u'Fund Name', u'Fund Type', u'Net Asset Value ($)', u'5 Year Average Return (%)', u'Expense Ratio (%)', u'Morningstar Rank')\n",
      "(u'Amer Cent Inc & Growth Inv', u'DE', 28.88, 12.39, 0.67, u'2-Star')\n",
      "(u'American Century Intl. Disc', u'IE', 14.37, 30.53, 1.41, u'3-Star')\n",
      "(u'American Century Tax-Free Bond', u'FI', 10.73, 3.34, 0.49, u'4-Star')\n",
      "(u'American Century Ultra', u'DE', 24.94, 10.88, 0.99, u'3-Star')\n",
      "(u'Ariel', u'DE', 46.39, 11.32, 1.03, u'2-Star')\n",
      "(u'Artisan Intl Val', u'IE', 25.52, 24.95, 1.23, u'3-Star')\n",
      "(u'Artisan Small Cap', u'DE', 16.92, 15.67, 1.18, u'3-Star')\n",
      "(u'Baron Asset', u'DE', 50.67, 16.77, 1.31, u'5-Star')\n",
      "(u'Brandywine', u'DE', 36.58, 18.14, 1.08, u'4-Star')\n",
      "(u'Brown Cap Small ', u'DE', 35.73, 15.85, 1.2, u'4-Star')\n",
      "(u'Buffalo Mid Cap', u'DE', 15.29, 17.25, 1.02, u'3-Star')\n",
      "(u'Delafield', u'DE', 24.32, 17.77, 1.32, u'4-Star')\n",
      "(u'DFA U.S. Micro Cap', u'DE', 13.47, 17.23, 0.53, u'3-Star')\n",
      "(u'Dodge & Cox Income', u'FI', 12.51, 4.31, 0.44, u'4-Star')\n",
      "(u'Fairholme', u'DE', 31.86, 18.23, 1.0, u'5-Star')\n",
      "(u'Fidelity Contrafund', u'DE', 73.11, 17.99, 0.89, u'5-Star')\n",
      "(u'Fidelity Municipal Income', u'FI', 12.58, 4.41, 0.45, u'5-Star')\n",
      "(u'Fidelity Overseas', u'IE', 48.39, 23.46, 0.9, u'4-Star')\n",
      "(u'Fidelity Sel Electronics', u'DE', 45.6, 13.5, 0.89, u'3-Star')\n",
      "(u'Fidelity Sh-Term Bond', u'FI', 8.6, 2.76, 0.45, u'3-Star')\n",
      "(u'Fidelity', u'DE', 39.85, 14.4, 0.56, u'4-Star')\n",
      "(u'FPA New Income', u'FI', 10.95, 4.63, 0.62, u'3-Star')\n",
      "(u'Gabelli Asset AAA', u'DE', 49.81, 16.7, 1.36, u'4-Star')\n",
      "(u'Greenspring', u'DE', 23.59, 12.46, 1.07, u'3-Star')\n",
      "(u'Janus', u'DE', 32.26, 12.81, 0.9, u'3-Star')\n",
      "(u'Janus Worldwide', u'IE', 54.83, 12.31, 0.86, u'2-Star')\n",
      "(u'Kalmar Gr Val Sm Cp', u'DE', 15.3, 15.31, 1.32, u'3-Star')\n",
      "(u'Managers Freemont Bond', u'FI', 10.56, 5.14, 0.6, u'5-Star')\n",
      "(u'Marsico 21st Century', u'DE', 17.44, 15.16, 1.31, u'5-Star')\n",
      "(u'Mathews Pacific Tiger', u'IE', 27.86, 32.7, 1.16, u'3-Star')\n",
      "(u'Meridan Value', u'DE', 31.92, 15.33, 1.08, u'4-Star')\n",
      "(u'Oakmark I', u'DE', 40.37, 9.51, 1.05, u'2-Star')\n",
      "(u'PIMCO Emerg Mkts Bd D', u'FI', 10.68, 13.57, 1.25, u'3-Star')\n",
      "(u'RS Value A', u'DE', 26.27, 23.68, 1.36, u'4-Star')\n",
      "(u'T. Rowe Price Latin Am.', u'IE', 53.89, 51.1, 1.24, u'4-Star')\n",
      "(u'T. Rowe Price Mid Val', u'DE', 22.46, 16.91, 0.8, u'4-Star')\n",
      "(u'Templeton Growth A', u'IE', 24.07, 15.91, 1.01, u'3-Star')\n",
      "(u'Thornburg Value A', u'DE', 37.53, 15.46, 1.27, u'4-Star')\n",
      "(u'USAA Income', u'FI', 12.1, 4.31, 0.62, u'3-Star')\n",
      "(u'Vanguard Equity-Inc', u'DE', 24.42, 13.41, 0.29, u'4-Star')\n",
      "(u'Vanguard Global Equity', u'IE', 23.71, 21.77, 0.64, u'5-Star')\n",
      "(u'Vanguard GNMA', u'FI', 10.37, 4.25, 0.21, u'5-Star')\n",
      "(u'Vanguard Sht-Tm TE', u'FI', 15.68, 2.37, 0.16, u'3-Star')\n",
      "(u'Vanguard Sm Cp Idx', u'DE', 32.58, 17.01, 0.23, u'3-Star')\n",
      "(u'Wasatch Sm Cp Growth', u'DE', 35.41, 13.98, 1.19, u'4-Star')\n"
     ]
    }
   ],
   "source": [
    "\n",
    "# reestablish connection to `sales.db` database:\n",
    "db     = sqlite3.connect('funds.db')\n",
    "cursor = db.cursor()\n",
    "\n",
    "#construct a query to retrieve data from `TOYOTA_SALES`:\n",
    "SQL = \"SELECT * FROM [mutual-funds]\"\n",
    "\n",
    "# call `cursor.execute` on query string:\n",
    "cursor.execute(SQL)\n",
    "\n",
    "# `cursor` can be iterated over:\n",
    "for rec in cursor:\n",
    "    print(rec)\n",
    "    \n",
    "# not forgetting to commit changes and close connection:   \n",
    "db.commit()\n",
    "db.close()\n"
   ]
  },
  {
   "cell_type": "code",
   "execution_count": null,
   "metadata": {
    "collapsed": true
   },
   "outputs": [],
   "source": []
  }
 ],
 "metadata": {
  "anaconda-cloud": {},
  "kernelspec": {
   "display_name": "Python [conda root]",
   "language": "python",
   "name": "conda-root-py"
  },
  "language_info": {
   "codemirror_mode": {
    "name": "ipython",
    "version": 2
   },
   "file_extension": ".py",
   "mimetype": "text/x-python",
   "name": "python",
   "nbconvert_exporter": "python",
   "pygments_lexer": "ipython2",
   "version": "2.7.12"
  }
 },
 "nbformat": 4,
 "nbformat_minor": 1
}
