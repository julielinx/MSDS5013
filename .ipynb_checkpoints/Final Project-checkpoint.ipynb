{
 "cells": [
  {
   "cell_type": "markdown",
   "metadata": {
    "collapsed": true
   },
   "source": [
    "# MSDS5013 Final Project"
   ]
  },
  {
   "cell_type": "markdown",
   "metadata": {},
   "source": [
    "**Authors:** _Julie Fisher | David Keough | Gilberto Diaz | Sinney Chan | Brandon Harden | Ash Yenamandra | Karelys Osuna_\n",
    "\n",
    "**Professor:** _Dr. Eddie Borera Ph.D_\n",
    "\n",
    "**Course:** _Principles of Data Science_"
   ]
  },
  {
   "cell_type": "markdown",
   "metadata": {},
   "source": [
    "### Creating database and table structures"
   ]
  },
  {
   "cell_type": "code",
   "execution_count": 8,
   "metadata": {
    "collapsed": true
   },
   "outputs": [],
   "source": [
    "import sqlite3"
   ]
  },
  {
   "cell_type": "code",
   "execution_count": 9,
   "metadata": {
    "collapsed": false
   },
   "outputs": [],
   "source": [
    "# CREATE DATABASE\n",
    "db = sqlite3.connect(\"finalproject.db\")\n",
    "db.execute('pragma foreign_keys=ON')\n",
    "cursor = db.cursor()\n",
    "\n",
    "# CREATE TABLE STRUCTURES\n",
    "planet_info = \"\"\"CREATE TABLE planet_info (\n",
    "                planet_id       INTEGER PRIMARY KEY not null,\n",
    "                planet_name     TEXT not null)\"\"\"\n",
    "\n",
    "patient_info = \"\"\"CREATE TABLE patient_info (\n",
    "                ID              INTEGER PRIMARY KEY not null,\n",
    "                patient_id      INTEGER not null,\n",
    "                age             REAL,\n",
    "                FOREIGN KEY(patient_id) REFERENCES patients_readings(patient_id)\n",
    "                ON UPDATE CASCADE\n",
    "                ON DELETE RESTRICT,\n",
    "                check (age >= 0))\"\"\"\n",
    "\n",
    "patient_readings = \"\"\"CREATE TABLE patient_readings (\n",
    "                patient_id      INTEGER PRIMARY KEY not null,\n",
    "                blood_pressure  REAL,\n",
    "                exercise        REAL,\n",
    "                weight          REAL,\n",
    "                glucose         REAL,\n",
    "                bmi             REAL,\n",
    "                planet_id       INTEGER not null,\n",
    "                FOREIGN KEY(planet_id) REFERENCES planet_info(planet_id)\n",
    "                ON UPDATE CASCADE\n",
    "                ON DELETE RESTRICT,\n",
    "                check (blood_pressure >= 0),\n",
    "                check (exercise >= 0),\n",
    "                check (weight >= 0),\n",
    "                check (glucose >= 0),\n",
    "                check (bmi >= 0))\"\"\"\n",
    "\n",
    "cursor.execute(planet_info)\n",
    "cursor.execute(patient_info)\n",
    "cursor.execute(patient_readings)\n",
    "\n",
    "db.commit()\n",
    "db.close()"
   ]
  },
  {
   "cell_type": "markdown",
   "metadata": {},
   "source": [
    "### Importing datasets into database"
   ]
  },
  {
   "cell_type": "code",
   "execution_count": 10,
   "metadata": {
    "collapsed": false
   },
   "outputs": [],
   "source": [
    "# IMPORT CSV FILES INTO TABLES\n",
    "import csv\n",
    "\n",
    "db = sqlite3.connect(\"finalproject.db\")\n",
    "db.execute('pragma foreign_keys=ON')\n",
    "cursor = db.cursor()\n",
    "\n",
    "with open('deidentify_list_cross_ref.csv', 'rb') as pa:\n",
    "    fcsv3 = csv.reader(pa)\n",
    "    info_load3 = [record for record in fcsv3]\n",
    "    del info_load3[0]\n",
    "    cursor.executemany(\"INSERT INTO patient_info (patient_id, age)  VALUES (?, ?)\", info_load3)\n",
    "\n",
    "with open('planet_info.csv', 'rb') as PL:\n",
    "    fcsv4 = csv.reader(PL)\n",
    "    info_load4 = [record for record in fcsv4]\n",
    "    del info_load4[0]\n",
    "    cursor.executemany(\"INSERT INTO planet_info (planet_id, planet_name) VALUES (?, ?)\", info_load4)\n",
    "\n",
    "with open('boran.csv', 'rb') as p1:\n",
    "    fcsv1 = csv.reader(p1)\n",
    "    info_load1 = [record for record in fcsv1]\n",
    "    del info_load1[0]\n",
    "    cursor.executemany(\"INSERT INTO patient_readings(patient_id, blood_pressure, exercise, weight, glucose, bmi, planet_id) VALUES (?, ?, ?, ?, ?, ?, ?)\", info_load1)\n",
    "\n",
    "with open('radan.csv', 'rb') as p2:\n",
    "    fcsv2 = csv.reader(p2)\n",
    "    info_load2 = [record for record in fcsv2]\n",
    "    del info_load2[0]\n",
    "    cursor.executemany(\"INSERT INTO patient_readings(patient_id, blood_pressure, exercise, weight, glucose, bmi, planet_id) VALUES (?, ?, ?, ?, ?, ?, ?)\", info_load2)\n",
    "    \n",
    "db.commit()\n",
    "db.close()"
   ]
  },
  {
   "cell_type": "markdown",
   "metadata": {},
   "source": [
    "### Performing SQL updates that should get rejected"
   ]
  },
  {
   "cell_type": "code",
   "execution_count": null,
   "metadata": {
    "collapsed": true
   },
   "outputs": [],
   "source": [
    "# checking duplicate keys in patient_readings\n",
    "db = sqlite3.connect(\"finalproject.db\")\n",
    "db.execute('pragma foreign_keys=ON')\n",
    "cursor = db.cursor()\n",
    "\n",
    "query = '''\n",
    "INSERT INTO patient_readings\n",
    "        VALUES (5231, 194.63954,45.811802,145.29439,122.23155,1.0056044,1);\n",
    "        '''\n",
    "cursor.execute(query)\n",
    "db.commit()\n",
    "db.close()\n",
    "\n",
    "# IntegrityError: UNIQUE constraint failed: patient_readings.patient_id"
   ]
  },
  {
   "cell_type": "code",
   "execution_count": null,
   "metadata": {
    "collapsed": true
   },
   "outputs": [],
   "source": [
    "# checking duplicate keys in planet_info\n",
    "db = sqlite3.connect(\"finalproject.db\")\n",
    "db.execute('pragma foreign_keys=ON')\n",
    "cursor = db.cursor()\n",
    "\n",
    "query = '''\n",
    "INSERT INTO planet_info\n",
    "        VALUES (1, 'boran');\n",
    "        '''\n",
    "cursor.execute(query)\n",
    "db.commit()\n",
    "db.close()\n",
    "\n",
    "# IntegrityError: UNIQUE constraint failed: planet_info.planet_id"
   ]
  },
  {
   "cell_type": "code",
   "execution_count": null,
   "metadata": {
    "collapsed": true
   },
   "outputs": [],
   "source": [
    "# checking duplicate keys in patient_info\n",
    "db = sqlite3.connect(\"finalproject.db\")\n",
    "db.execute('pragma foreign_keys=ON')\n",
    "cursor = db.cursor()\n",
    "\n",
    "query = '''\n",
    "INSERT INTO patient_info\n",
    "        VALUES (1, 41989,76.95746);\n",
    "        '''\n",
    "cursor.execute(query)\n",
    "db.commit()\n",
    "db.close()\n",
    "\n",
    "# IntegrityError: UNIQUE constraint failed: patient_info.ID"
   ]
  },
  {
   "cell_type": "code",
   "execution_count": null,
   "metadata": {
    "collapsed": true
   },
   "outputs": [],
   "source": [
    "# checking foreign key constraint in patient_readings\n",
    "db = sqlite3.connect(\"finalproject.db\")\n",
    "db.execute('pragma foreign_keys=ON')\n",
    "cursor = db.cursor()\n",
    "\n",
    "query = '''\n",
    "INSERT INTO patient_readings\n",
    "        VALUES (95789, 194.63954,45.811802,145.29439,122.23155,1.0056044,3);\n",
    "        '''\n",
    "cursor.execute(query)\n",
    "db.commit()\n",
    "db.close()\n",
    "\n",
    "# IntegrityError: FOREIGN KEY constraint failed"
   ]
  },
  {
   "cell_type": "code",
   "execution_count": null,
   "metadata": {
    "collapsed": true
   },
   "outputs": [],
   "source": [
    "# checking foreign key constraint in patient_info\n",
    "\n",
    "db = sqlite3.connect(\"finalproject.db\")\n",
    "db.execute('pragma foreign_keys=ON')\n",
    "cursor = db.cursor()\n",
    "\n",
    "query = '''\n",
    "INSERT INTO patient_info\n",
    "        VALUES (121, 95789,45.811802);\n",
    "        '''\n",
    "cursor.execute(query)\n",
    "db.commit()\n",
    "db.close()\n",
    "\n",
    "# IntegrityError: FOREIGN KEY constraint failed"
   ]
  },
  {
   "cell_type": "code",
   "execution_count": null,
   "metadata": {
    "collapsed": true
   },
   "outputs": [],
   "source": [
    "# checking foreign key constraint in planet_info\n",
    "db = sqlite3.connect(\"finalproject.db\")\n",
    "db.execute('pragma foreign_keys=ON')\n",
    "cursor = db.cursor()\n",
    "\n",
    "query = '''\n",
    "delete from planet_info where planet_id = 1;\n",
    "        '''\n",
    "cursor.execute(query)\n",
    "db.commit()\n",
    "db.close()\n",
    "\n",
    "# IntegrityError: FOREIGN KEY constraint failed"
   ]
  },
  {
   "cell_type": "code",
   "execution_count": null,
   "metadata": {
    "collapsed": true
   },
   "outputs": [],
   "source": [
    "# checking foreign key constraint in patient_info\n",
    "db = sqlite3.connect(\"finalproject.db\")\n",
    "db.execute('pragma foreign_keys=ON')\n",
    "cursor = db.cursor()\n",
    "\n",
    "query = '''\n",
    "delete from patient_readings where patient_id = 8733;\n",
    "        '''\n",
    "cursor.execute(query)\n",
    "db.commit()\n",
    "db.close()\n",
    "\n",
    "# IntegrityError: FOREIGN KEY constraint failed"
   ]
  },
  {
   "cell_type": "code",
   "execution_count": null,
   "metadata": {
    "collapsed": true
   },
   "outputs": [],
   "source": [
    "# check constraint in patient_readings: blood_pressure >= 0\n",
    "db = sqlite3.connect(\"finalproject.db\")\n",
    "db.execute('pragma foreign_keys=ON')\n",
    "cursor = db.cursor()\n",
    "\n",
    "query = '''\n",
    "INSERT INTO patient_readings\n",
    "        VALUES (95789, -194.63954,45.811802,145.29439,122.23155,1.0056044,1);\n",
    "        '''\n",
    "cursor.execute(query)\n",
    "db.commit()\n",
    "db.close()\n",
    "\n",
    "# IntegrityError: CHECK constraint failed: patient_readings"
   ]
  },
  {
   "cell_type": "code",
   "execution_count": null,
   "metadata": {
    "collapsed": true
   },
   "outputs": [],
   "source": [
    "# check constraint in patient_info: age >= 0\n",
    "db = sqlite3.connect(\"finalproject.db\")\n",
    "db.execute('pragma foreign_keys=ON')\n",
    "cursor = db.cursor()\n",
    "\n",
    "query = '''\n",
    "INSERT INTO patient_info\n",
    "        VALUES (121, 13650,-45.811802);\n",
    "        '''\n",
    "cursor.execute(query)\n",
    "db.commit()\n",
    "db.close()\n",
    "\n",
    "# IntegrityError: CHECK constraint failed: patient_info"
   ]
  },
  {
   "cell_type": "markdown",
   "metadata": {},
   "source": [
    "### Create view for further analysis"
   ]
  },
  {
   "cell_type": "code",
   "execution_count": 11,
   "metadata": {
    "collapsed": false
   },
   "outputs": [],
   "source": [
    "db = sqlite3.connect(\"finalproject.db\")\n",
    "db.execute('pragma foreign_keys=ON')\n",
    "cursor = db.cursor()\n",
    "\n",
    "query = \"\"\"CREATE VIEW V_Patients as \n",
    "           SELECT pl.planet_name, pr.patient_id, blood_pressure, exercise, weight, glucose, bmi, age\n",
    "           FROM planet_info pl\n",
    "           JOIN patient_readings pr\n",
    "           ON pl.planet_id = pr.planet_id\n",
    "           JOIN patient_info pa\n",
    "           ON pr.patient_id = pa.patient_id;\"\"\"\n",
    "\n",
    "cursor.execute(query)\n",
    "db.commit()\n",
    "db.close()"
   ]
  },
  {
   "cell_type": "markdown",
   "metadata": {},
   "source": [
    "### Query from 'boran' to analyzing blood pressure"
   ]
  },
  {
   "cell_type": "code",
   "execution_count": 12,
   "metadata": {
    "collapsed": false
   },
   "outputs": [],
   "source": [
    "import numpy as np\n",
    "import pandas as pd\n",
    "import matplotlib.pyplot as plt\n",
    "\n",
    "a = np.zeros(shape=(30,2))\n",
    "db = sqlite3.connect('finalproject.db')\n",
    "cursor = db.cursor()\n",
    "\n",
    "SQL = \"SELECT blood_pressure, age FROM V_Patients where planet_name = 'boran'\"\n",
    "\n",
    "cursor.execute(SQL)\n",
    "\n",
    "row = 0\n",
    "for rec in cursor:\n",
    "    a[row] = [rec[0],rec[1]]\n",
    "    row += 1\n",
    "\n",
    "db.commit()\n",
    "db.close()\n",
    "#print a"
   ]
  },
  {
   "cell_type": "markdown",
   "metadata": {},
   "source": [
    "### Query from 'radan' to analyzing blood pressure"
   ]
  },
  {
   "cell_type": "code",
   "execution_count": 13,
   "metadata": {
    "collapsed": false
   },
   "outputs": [],
   "source": [
    "b = np.zeros(shape=(30,2))\n",
    "db = sqlite3.connect('finalproject.db')\n",
    "cursor = db.cursor()\n",
    "\n",
    "SQL = \"SELECT blood_pressure, age FROM V_Patients where planet_name = 'radan'\"\n",
    "\n",
    "cursor.execute(SQL)\n",
    "\n",
    "row = 0\n",
    "for rec in cursor:\n",
    "    b[row] = [rec[0],rec[1]]\n",
    "    row += 1\n",
    "\n",
    "db.commit()\n",
    "db.close()\n",
    "#print b"
   ]
  },
  {
   "cell_type": "code",
   "execution_count": 14,
   "metadata": {
    "collapsed": false
   },
   "outputs": [
    {
     "data": {
      "text/html": [
       "<div>\n",
       "<table border=\"1\" class=\"dataframe\">\n",
       "  <thead>\n",
       "    <tr style=\"text-align: right;\">\n",
       "      <th></th>\n",
       "      <th>blood_pressure</th>\n",
       "      <th>age</th>\n",
       "    </tr>\n",
       "  </thead>\n",
       "  <tbody>\n",
       "    <tr>\n",
       "      <th>0</th>\n",
       "      <td>191.853108</td>\n",
       "      <td>76.957462</td>\n",
       "    </tr>\n",
       "    <tr>\n",
       "      <th>1</th>\n",
       "      <td>189.628666</td>\n",
       "      <td>74.242965</td>\n",
       "    </tr>\n",
       "    <tr>\n",
       "      <th>2</th>\n",
       "      <td>199.378675</td>\n",
       "      <td>86.055427</td>\n",
       "    </tr>\n",
       "    <tr>\n",
       "      <th>3</th>\n",
       "      <td>197.254505</td>\n",
       "      <td>75.937458</td>\n",
       "    </tr>\n",
       "    <tr>\n",
       "      <th>4</th>\n",
       "      <td>174.605957</td>\n",
       "      <td>59.481521</td>\n",
       "    </tr>\n",
       "  </tbody>\n",
       "</table>\n",
       "</div>"
      ],
      "text/plain": [
       "   blood_pressure        age\n",
       "0      191.853108  76.957462\n",
       "1      189.628666  74.242965\n",
       "2      199.378675  86.055427\n",
       "3      197.254505  75.937458\n",
       "4      174.605957  59.481521"
      ]
     },
     "execution_count": 14,
     "metadata": {},
     "output_type": "execute_result"
    }
   ],
   "source": [
    "db = sqlite3.connect('finalproject.db')\n",
    "df1 = pd.read_sql_query(\"SELECT blood_pressure, age FROM V_Patients where planet_name = 'boran'\", db)\n",
    "\n",
    "db.close()\n",
    "df1.head()"
   ]
  },
  {
   "cell_type": "code",
   "execution_count": 15,
   "metadata": {
    "collapsed": false
   },
   "outputs": [
    {
     "data": {
      "text/html": [
       "<div>\n",
       "<table border=\"1\" class=\"dataframe\">\n",
       "  <thead>\n",
       "    <tr style=\"text-align: right;\">\n",
       "      <th></th>\n",
       "      <th>blood_pressure</th>\n",
       "      <th>age</th>\n",
       "    </tr>\n",
       "  </thead>\n",
       "  <tbody>\n",
       "    <tr>\n",
       "      <th>0</th>\n",
       "      <td>102.358126</td>\n",
       "      <td>80.076495</td>\n",
       "    </tr>\n",
       "    <tr>\n",
       "      <th>1</th>\n",
       "      <td>105.261325</td>\n",
       "      <td>86.508208</td>\n",
       "    </tr>\n",
       "    <tr>\n",
       "      <th>2</th>\n",
       "      <td>104.480912</td>\n",
       "      <td>78.058313</td>\n",
       "    </tr>\n",
       "    <tr>\n",
       "      <th>3</th>\n",
       "      <td>101.532439</td>\n",
       "      <td>79.982882</td>\n",
       "    </tr>\n",
       "    <tr>\n",
       "      <th>4</th>\n",
       "      <td>99.872391</td>\n",
       "      <td>80.371192</td>\n",
       "    </tr>\n",
       "  </tbody>\n",
       "</table>\n",
       "</div>"
      ],
      "text/plain": [
       "   blood_pressure        age\n",
       "0      102.358126  80.076495\n",
       "1      105.261325  86.508208\n",
       "2      104.480912  78.058313\n",
       "3      101.532439  79.982882\n",
       "4       99.872391  80.371192"
      ]
     },
     "execution_count": 15,
     "metadata": {},
     "output_type": "execute_result"
    }
   ],
   "source": [
    "db = sqlite3.connect('finalproject.db')\n",
    "df2 = pd.read_sql_query(\"SELECT blood_pressure, age FROM V_Patients where planet_name = 'radan'\", db)\n",
    "\n",
    "db.close()\n",
    "\n",
    "df2.head()"
   ]
  },
  {
   "cell_type": "code",
   "execution_count": 16,
   "metadata": {
    "collapsed": false
   },
   "outputs": [
    {
     "name": "stdout",
     "output_type": "stream",
     "text": [
      "('Coefficients: \\n', array([[ 1.14074587]]))\n",
      "Mean squared error: 21.21\n",
      "Variance score: 0.81\n"
     ]
    },
    {
     "data": {
      "image/png": "[encoded data removed]",
      "text/plain": [
       "<matplotlib.figure.Figure at 0x10e0fbd90>"
      ]
     },
     "metadata": {},
     "output_type": "display_data"
    }
   ],
   "source": [
    "from sklearn import linear_model\n",
    "\n",
    "# this allows plots to appear directly in the notebook\n",
    "%matplotlib inline\n",
    "\n",
    "# visualize the relationship between the features and the response using scatterplots\n",
    "df1.plot(kind='scatter', x='age', y='blood_pressure')\n",
    "\n",
    "age1 = df1.age\n",
    "bp1 = df1.blood_pressure\n",
    "\n",
    "age1 = age1.reshape(-1, 1)\n",
    "bp1 = bp1.reshape(-1, 1)\n",
    "regr = linear_model.LinearRegression()\n",
    "regr.fit(age1, bp1)\n",
    "\n",
    "# The coefficients\n",
    "print('Coefficients: \\n', regr.coef_)\n",
    "# The mean squared error\n",
    "print(\"Mean squared error: %.2f\"\n",
    "      % np.mean((regr.predict(age1) - bp1) ** 2))\n",
    "# Explained variance score: 1 is perfect prediction\n",
    "print('Variance score: %.2f' % regr.score(age1, bp1))\n",
    "\n",
    "# Plot outputs\n",
    "plt.scatter(age1, bp1,  color='black')\n",
    "plt.plot(age1, regr.predict(age1), color='blue',\n",
    "         linewidth=3)\n",
    "\n",
    "plt.title('Boran')\n",
    "plt.xticks(())\n",
    "plt.yticks(())\n",
    "\n",
    "plt.show()"
   ]
  },
  {
   "cell_type": "code",
   "execution_count": 17,
   "metadata": {
    "collapsed": false
   },
   "outputs": [
    {
     "name": "stdout",
     "output_type": "stream",
     "text": [
      "('Coefficients: \\n', array([[ 0.47088464]]))\n",
      "Mean squared error: 7.21\n",
      "Variance score: 0.59\n"
     ]
    },
    {
     "data": {
      "image/png": "[encoded data removed]",
      "text/plain": [
       "<matplotlib.figure.Figure at 0x10e20fa10>"
      ]
     },
     "metadata": {},
     "output_type": "display_data"
    }
   ],
   "source": [
    "%matplotlib inline\n",
    "\n",
    "# visualize the relationship between the features and the response using scatterplots\n",
    "df2.plot(kind='scatter', x='age', y='blood_pressure')\n",
    "\n",
    "age2 = df2.age\n",
    "bp2 = df2.blood_pressure\n",
    "\n",
    "age2 = age2.reshape(-1, 1)\n",
    "bp2 = bp2.reshape(-1, 1)\n",
    "regr = linear_model.LinearRegression()\n",
    "regr.fit(age2, bp2)\n",
    "\n",
    "# The coefficients\n",
    "print('Coefficients: \\n', regr.coef_)\n",
    "# The mean squared error\n",
    "print(\"Mean squared error: %.2f\"\n",
    "      % np.mean((regr.predict(age2) - bp2) ** 2))\n",
    "# Explained variance score: 1 is perfect prediction\n",
    "print('Variance score: %.2f' % regr.score(age2, bp2))\n",
    "\n",
    "# Plot outputs\n",
    "plt.scatter(age2, bp2,  color='black')\n",
    "plt.plot(age2, regr.predict(age2), color='blue',\n",
    "         linewidth=3)\n",
    "\n",
    "plt.title('Radan')\n",
    "plt.xticks(())\n",
    "plt.yticks(())\n",
    "\n",
    "plt.show()"
   ]
  },
  {
   "cell_type": "code",
   "execution_count": 18,
   "metadata": {
    "collapsed": false
   },
   "outputs": [
    {
     "data": {
      "text/html": [
       "<div>\n",
       "<table border=\"1\" class=\"dataframe\">\n",
       "  <thead>\n",
       "    <tr style=\"text-align: right;\">\n",
       "      <th></th>\n",
       "      <th>blood_pressure</th>\n",
       "      <th>age</th>\n",
       "    </tr>\n",
       "  </thead>\n",
       "  <tbody>\n",
       "    <tr>\n",
       "      <th>count</th>\n",
       "      <td>30.000000</td>\n",
       "      <td>30.000000</td>\n",
       "    </tr>\n",
       "    <tr>\n",
       "      <th>mean</th>\n",
       "      <td>193.632568</td>\n",
       "      <td>76.419431</td>\n",
       "    </tr>\n",
       "    <tr>\n",
       "      <th>std</th>\n",
       "      <td>10.744819</td>\n",
       "      <td>8.476798</td>\n",
       "    </tr>\n",
       "    <tr>\n",
       "      <th>min</th>\n",
       "      <td>168.038423</td>\n",
       "      <td>59.481521</td>\n",
       "    </tr>\n",
       "    <tr>\n",
       "      <th>25%</th>\n",
       "      <td>186.009547</td>\n",
       "      <td>70.286313</td>\n",
       "    </tr>\n",
       "    <tr>\n",
       "      <th>50%</th>\n",
       "      <td>195.145007</td>\n",
       "      <td>76.447460</td>\n",
       "    </tr>\n",
       "    <tr>\n",
       "      <th>75%</th>\n",
       "      <td>200.624363</td>\n",
       "      <td>84.757961</td>\n",
       "    </tr>\n",
       "    <tr>\n",
       "      <th>max</th>\n",
       "      <td>209.973069</td>\n",
       "      <td>87.262260</td>\n",
       "    </tr>\n",
       "  </tbody>\n",
       "</table>\n",
       "</div>"
      ],
      "text/plain": [
       "       blood_pressure        age\n",
       "count       30.000000  30.000000\n",
       "mean       193.632568  76.419431\n",
       "std         10.744819   8.476798\n",
       "min        168.038423  59.481521\n",
       "25%        186.009547  70.286313\n",
       "50%        195.145007  76.447460\n",
       "75%        200.624363  84.757961\n",
       "max        209.973069  87.262260"
      ]
     },
     "execution_count": 18,
     "metadata": {},
     "output_type": "execute_result"
    }
   ],
   "source": [
    "df1.describe()"
   ]
  },
  {
   "cell_type": "code",
   "execution_count": 19,
   "metadata": {
    "collapsed": false
   },
   "outputs": [
    {
     "data": {
      "image/png": "[encoded data removed]",
      "text/plain": [
       "<matplotlib.figure.Figure at 0x10e736e10>"
      ]
     },
     "metadata": {},
     "output_type": "display_data"
    }
   ],
   "source": [
    "#the histogram of the data\n",
    "x = df1.age\n",
    "n, bins, patches = plt.hist(x, 10, normed=1, facecolor='green', alpha=0.75)\n",
    "\n",
    "plt.xlabel('age')\n",
    "plt.ylabel('Probability')\n",
    "plt.title('Age Distribution of Planet Boran')\n",
    "plt.axis([55, 90, 0, 0.1])\n",
    "plt.grid(True)\n",
    "\n",
    "plt.show()"
   ]
  },
  {
   "cell_type": "code",
   "execution_count": 20,
   "metadata": {
    "collapsed": false
   },
   "outputs": [
    {
     "data": {
      "text/html": [
       "<div>\n",
       "<table border=\"1\" class=\"dataframe\">\n",
       "  <thead>\n",
       "    <tr style=\"text-align: right;\">\n",
       "      <th></th>\n",
       "      <th>blood_pressure</th>\n",
       "      <th>age</th>\n",
       "    </tr>\n",
       "  </thead>\n",
       "  <tbody>\n",
       "    <tr>\n",
       "      <th>count</th>\n",
       "      <td>30.000000</td>\n",
       "      <td>30.000000</td>\n",
       "    </tr>\n",
       "    <tr>\n",
       "      <th>mean</th>\n",
       "      <td>103.482301</td>\n",
       "      <td>84.217069</td>\n",
       "    </tr>\n",
       "    <tr>\n",
       "      <th>std</th>\n",
       "      <td>4.272000</td>\n",
       "      <td>6.977068</td>\n",
       "    </tr>\n",
       "    <tr>\n",
       "      <th>min</th>\n",
       "      <td>94.041680</td>\n",
       "      <td>71.826780</td>\n",
       "    </tr>\n",
       "    <tr>\n",
       "      <th>25%</th>\n",
       "      <td>100.863369</td>\n",
       "      <td>79.630264</td>\n",
       "    </tr>\n",
       "    <tr>\n",
       "      <th>50%</th>\n",
       "      <td>103.956240</td>\n",
       "      <td>82.166353</td>\n",
       "    </tr>\n",
       "    <tr>\n",
       "      <th>75%</th>\n",
       "      <td>106.606746</td>\n",
       "      <td>89.186006</td>\n",
       "    </tr>\n",
       "    <tr>\n",
       "      <th>max</th>\n",
       "      <td>111.513411</td>\n",
       "      <td>99.544450</td>\n",
       "    </tr>\n",
       "  </tbody>\n",
       "</table>\n",
       "</div>"
      ],
      "text/plain": [
       "       blood_pressure        age\n",
       "count       30.000000  30.000000\n",
       "mean       103.482301  84.217069\n",
       "std          4.272000   6.977068\n",
       "min         94.041680  71.826780\n",
       "25%        100.863369  79.630264\n",
       "50%        103.956240  82.166353\n",
       "75%        106.606746  89.186006\n",
       "max        111.513411  99.544450"
      ]
     },
     "execution_count": 20,
     "metadata": {},
     "output_type": "execute_result"
    }
   ],
   "source": [
    "df2.describe()"
   ]
  },
  {
   "cell_type": "code",
   "execution_count": 21,
   "metadata": {
    "collapsed": false
   },
   "outputs": [
    {
     "data": {
      "image/png": "[encoded data removed]",
      "text/plain": [
       "<matplotlib.figure.Figure at 0x115311f90>"
      ]
     },
     "metadata": {},
     "output_type": "display_data"
    }
   ],
   "source": [
    "#the histogram of the data\n",
    "x = df2.age\n",
    "n, bins, patches = plt.hist(x, 10, normed=1, facecolor='blue', alpha=0.75)\n",
    "\n",
    "plt.xlabel('age')\n",
    "plt.ylabel('Probability')\n",
    "plt.title('Age Distribution of Planet Radan')\n",
    "plt.axis([70, 100, 0, 0.09])\n",
    "plt.grid(True)\n",
    "\n",
    "plt.show()"
   ]
  },
  {
   "cell_type": "markdown",
   "metadata": {},
   "source": [
    "### Probability of living past the mean age"
   ]
  },
  {
   "cell_type": "code",
   "execution_count": 190,
   "metadata": {
    "collapsed": false
   },
   "outputs": [
    {
     "name": "stdout",
     "output_type": "stream",
     "text": [
      "The probability of living past the mean age on Boran is 0.5\n"
     ]
    }
   ],
   "source": [
    "#Probability of living past mean life expectancy on Boran\n",
    "Total1 = df1[\"age\"].count()\n",
    "mean1 = df1[\"age\"].mean()\n",
    "OverMean = 0\n",
    "for x in df1[\"age\"]:\n",
    "    if x > mean1:\n",
    "        OverMean += 1\n",
    "    else:\n",
    "        continue\n",
    "\n",
    "print \"The probability of living past the mean age on Boran is \" + str(OverMean / float(Total1))"
   ]
  },
  {
   "cell_type": "code",
   "execution_count": 191,
   "metadata": {
    "collapsed": false
   },
   "outputs": [
    {
     "name": "stdout",
     "output_type": "stream",
     "text": [
      "The probability of living past the mean age on Radan is 0.433333333333\n"
     ]
    }
   ],
   "source": [
    "#Probability of living past mean life expectancy on Radan\n",
    "Total2 = df2[\"age\"].count()\n",
    "mean2 = df2[\"age\"].mean()\n",
    "OverMean = 0\n",
    "for x in df2[\"age\"]:\n",
    "    if x > mean2:\n",
    "        OverMean += 1\n",
    "    else:\n",
    "        continue\n",
    "\n",
    "print \"The probability of living past the mean age on Radan is \" + str(OverMean / float(Total2))"
   ]
  }
 ],
 "metadata": {
  "anaconda-cloud": {},
  "kernelspec": {
   "display_name": "Python [conda root]",
   "language": "python",
   "name": "conda-root-py"
  },
  "language_info": {
   "codemirror_mode": {
    "name": "ipython",
    "version": 3
   },
   "file_extension": ".py",
   "mimetype": "text/x-python",
   "name": "python",
   "nbconvert_exporter": "python",
   "pygments_lexer": "ipython3",
   "version": "3.5.2"
  }
 },
 "nbformat": 4,
 "nbformat_minor": 1
}
